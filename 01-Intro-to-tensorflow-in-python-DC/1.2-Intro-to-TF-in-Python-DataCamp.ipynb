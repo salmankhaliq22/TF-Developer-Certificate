{
 "cells": [
  {
   "cell_type": "markdown",
   "id": "f5494d2b-a851-42e5-b161-82676a6ea19b",
   "metadata": {},
   "source": [
    "# Tensorflow Developer Certificate Preparation\n",
    "___\n",
    "## Introduction to Tensorflow in Python - DataCamp - ML-Scientist-Career-Track - by Isaiah Hull\n",
    "___\n",
    "## Chapter 1.2- Basic Operations"
   ]
  },
  {
   "cell_type": "markdown",
   "id": "8011fb18-cb2f-4a69-a4ad-6b68b00b747f",
   "metadata": {},
   "source": [
    "### 1. Basic operations\n",
    "In this notebook, we'll talk about basic operations in TensorFlow.\n",
    "\n",
    "### 2. What is a TensorFlow operation?\n",
    "- TensorFlow has a model of computation that revolves around the use of graphs. \n",
    "- A TensorFlow graph contains edges and nodes, where the edges are tensors and the nodes are operations.\n",
    "- In the graph shown, which was drawn using TensorFlow, the const operations define 2 by 2 constant tensors. \n",
    "- Two tensors are summed using the add operation.\n",
    "- Another two tensors are then summed using the add operation.\n",
    "- Finally, the resulting matrices are multiplied together with the matmul operation.\n",
    "![Figure](https://github.com/salmankhaliq22/TF-Developer-Certificate/blob/main/01-Intro-to-tensorflow-in-python-DC/1.2.1.PNG)\n",
    "<img src=\"https://github.com/salmankhaliq22/TF-Developer-Certificate/blob/main/01-Intro-to-tensorflow-in-python-DC/1.2.1.PNG\" />\n",
    "<img title=\"a title\" alt=\"Alt text\" src=\"/images/boo.svg\">\n",
    "![](https://github.com/salmankhaliq22/TF-Developer-Certificate/blob/main/01-Intro-to-tensorflow-in-python-DC/1.2.1.PNG)"
   ]
  },
  {
   "cell_type": "markdown",
   "id": "fff8dc9f-c67a-40dc-9167-ad48c5643a70",
   "metadata": {
    "tags": []
   },
   "source": [
    "### 3. Applying the addition operator\n",
    "Let's start with the addition operator. \n",
    "- We will first import the constant and add operations. \n",
    "- We may now use constant to define 0-dimensional, 1-dimensional, and 2-dimensional tensors."
   ]
  },
  {
   "cell_type": "code",
   "execution_count": 1,
   "id": "fe21c568-f1c8-4c67-b9c9-184813706df2",
   "metadata": {},
   "outputs": [
    {
     "name": "stdout",
     "output_type": "stream",
     "text": [
      "tf.Tensor([1], shape=(1,), dtype=int32)\n",
      "tf.Tensor([2], shape=(1,), dtype=int32)\n",
      "tf.Tensor([1 2], shape=(2,), dtype=int32)\n",
      "tf.Tensor([3 4], shape=(2,), dtype=int32)\n",
      "tf.Tensor(\n",
      "[[1 2]\n",
      " [3 4]], shape=(2, 2), dtype=int32)\n",
      "tf.Tensor(\n",
      "[[5 6]\n",
      " [7 8]], shape=(2, 2), dtype=int32)\n"
     ]
    }
   ],
   "source": [
    "# Import constant and add from tensorflow\n",
    "from tensorflow import constant, add\n",
    "\n",
    "# Define 0-dimensional tensors\n",
    "A0 = constant([1])\n",
    "B0 = constant([2])\n",
    "\n",
    "# Define 1-dimensional tensors\n",
    "A1 = constant([1,2])\n",
    "B1 = constant([3,4])\n",
    "\n",
    "# Define 2-dimensional tensors\n",
    "A2 = constant([[1,2], [3,4]])\n",
    "B2 = constant([[5,6], [7,8]])\n",
    "\n",
    "# Printing\n",
    "print(A0)\n",
    "print(B0)\n",
    "print(A1)\n",
    "print(B1)\n",
    "print(A2)\n",
    "print(B2)"
   ]
  },
  {
   "cell_type": "markdown",
   "id": "86c4a6b9-5e7c-4a6b-8ba0-659e5804dc29",
   "metadata": {},
   "source": [
    "- Finally, let's add them together using the operation for tensor addition. \n",
    "- Note that we can perform scalar addition with A0 and B0, vector addition with A1 and B1, and matrix addition with A2 and B2."
   ]
  },
  {
   "cell_type": "code",
   "execution_count": 2,
   "id": "f77ec563-bfbc-493b-be0d-c242a33df833",
   "metadata": {},
   "outputs": [
    {
     "name": "stdout",
     "output_type": "stream",
     "text": [
      "tf.Tensor([3], shape=(1,), dtype=int32)\n",
      "tf.Tensor([4 6], shape=(2,), dtype=int32)\n",
      "tf.Tensor(\n",
      "[[ 6  8]\n",
      " [10 12]], shape=(2, 2), dtype=int32)\n"
     ]
    }
   ],
   "source": [
    "# Perform tensor addition with  add()\n",
    "C0 = add(A0, B0)\n",
    "C1 = add(A1, B1)\n",
    "C2 = add(A2, B2)\n",
    "\n",
    "print(C0)\n",
    "print(C1)\n",
    "print(C2)"
   ]
  },
  {
   "cell_type": "markdown",
   "id": "4c1bf205-e135-4ce4-9d95-17e690f51fa6",
   "metadata": {
    "tags": []
   },
   "source": [
    "### 4. Performing tensor addition\n",
    "- The ``add()`` operation performs **element-wise addition** with two tensors. \n",
    "- Each pair of tensors added must have the same shape. \n",
    "    - Element-wise addition of the scalars 1 and 2 yields the scalar 3. \n",
    "    - Element-wise addition of the vectors 1,2 and 3,4 yields the vector 4,6. \n",
    "    - Element-wise addition of the matrices 1,2,3,4 and 5,6,7,8 yields the matrix 6,8,10,12. \n",
    "![1.2.2](1.2.2.png \"Figure 1.2.2\")\n",
    "- Furthermore, the ``add()`` operator is overloaded, which means that we can also perform addition using the ``+`` symbol."
   ]
  },
  {
   "cell_type": "markdown",
   "id": "9f6106ef-5fe5-4142-ad8b-924d2f3aca32",
   "metadata": {
    "tags": []
   },
   "source": [
    "___\n",
    "### 5. How to perform multiplication in TensorFlow\n",
    "We will consider both **element-wise** and **matrix multiplication**.   \n",
    "- For **element-wise multiplication**, which is performed with the ``multiply()`` operation, \n",
    "    - The tensors involved must have the same shape. \n",
    "    - For instance, you may want to multiply the vector 1,2,3 by 3,4,5 or 1,2 by 3,4. \n",
    "- For **matrix multiplication**, you use the ``matmul()`` operator. \n",
    "    - The ``matmul(A,B)`` operation multiplies A by B.\n",
    "    - Note that performing ``matmul(A,B)`` requires that the **number of columns of A** ``=`` **the number of rows of B**.\n",
    "\n",
    "### 6. Applying the multiplication operators\n",
    "Let's look at some examples of multiplication in TensorFlow. \n",
    "- We'll import the ``ones()`` operator, along with the two types of multiplication we will use. \n",
    "- We will also define a ``scalar``, ``A0``, a ``3 by 1`` vector of ones, a ``3 by 4`` vector of ones, and a ``4 by 3`` vector of ones. "
   ]
  },
  {
   "cell_type": "code",
   "execution_count": 3,
   "id": "b5de3870-c602-481a-993d-3c019334037e",
   "metadata": {},
   "outputs": [
    {
     "name": "stdout",
     "output_type": "stream",
     "text": [
      "tf.Tensor([1.], shape=(1,), dtype=float32)\n",
      "tf.Tensor(\n",
      "[[1.]\n",
      " [1.]\n",
      " [1.]], shape=(3, 1), dtype=float32)\n",
      "tf.Tensor(\n",
      "[[1. 1. 1. 1.]\n",
      " [1. 1. 1. 1.]\n",
      " [1. 1. 1. 1.]], shape=(3, 4), dtype=float32)\n",
      "tf.Tensor(\n",
      "[[1. 1. 1.]\n",
      " [1. 1. 1.]\n",
      " [1. 1. 1.]\n",
      " [1. 1. 1.]], shape=(4, 3), dtype=float32)\n"
     ]
    }
   ],
   "source": [
    "# importing operators from tensorflow\n",
    "from tensorflow import  ones, matmul, multiply\n",
    "\n",
    "# Define tensors\n",
    "A0 = ones(1)\n",
    "A1 = ones([3,1])\n",
    "A2 = ones([3,4])\n",
    "A3 = ones([4,3])\n",
    "\n",
    "print(A0)\n",
    "print(A1)\n",
    "print(A2)\n",
    "print(A3)"
   ]
  },
  {
   "cell_type": "markdown",
   "id": "e432fb9d-da65-48e9-afd5-08aafab19b3a",
   "metadata": {
    "tags": []
   },
   "source": [
    "- What operations can be performed using these tensors of ones? \n",
    "    - We can perform **element-wise multiplication** of any element by itself, \n",
    "        - such as ``multiply(A0, A0)``, ``multiply(A31, A31)``, or ``multiply(A34, A34)``. \n",
    "    - We can also perform **matrix multiplication** \n",
    "        - such as ``matmul(A43, A34)``, **but not** ``matmul(A43, A43)``.\n",
    "___"
   ]
  },
  {
   "cell_type": "markdown",
   "id": "18927a5f-efe0-408a-853d-70135a5bc215",
   "metadata": {
    "tags": []
   },
   "source": [
    "### 7. Summing over tensor dimensions\n",
    "Finally, we end this lesson by discussing summation over tensors, which is performed using the ``reduce_sum()`` operator.\n",
    "- ``reduce_sum(A)`` can be used to **sum over all dimensions of a tensor** or **just one** ``reduce_sum(A,i)``. \n",
    "\n",
    "Let's see how this works in practice. \n",
    "- We will import ``ones`` and ``reduce_sum`` from tensorflow. \n",
    "- We will then define a ``2x3x4`` tensor that consists of ones."
   ]
  },
  {
   "cell_type": "code",
   "execution_count": 4,
   "id": "32d09d84-74bb-4a98-87e1-119a0a4854cd",
   "metadata": {},
   "outputs": [
    {
     "name": "stdout",
     "output_type": "stream",
     "text": [
      "tf.Tensor(\n",
      "[[[1. 1. 1. 1.]\n",
      "  [1. 1. 1. 1.]\n",
      "  [1. 1. 1. 1.]]\n",
      "\n",
      " [[1. 1. 1. 1.]\n",
      "  [1. 1. 1. 1.]\n",
      "  [1. 1. 1. 1.]]], shape=(2, 3, 4), dtype=float32)\n"
     ]
    }
   ],
   "source": [
    "# import operations from tensorflow\n",
    "from tensorflow import ones, reduce_sum\n",
    "\n",
    "# Define a 2x3x4 tensor of ones\n",
    "A = ones([2,3,4])\n",
    "\n",
    "print(A)"
   ]
  },
  {
   "cell_type": "markdown",
   "id": "705fe105-c55c-40ae-b899-d6a17d03f924",
   "metadata": {
    "tags": []
   },
   "source": [
    "- If we **sum over all elements of A**, we get **24**, since the tensor contains 24 elements, all of which are 1. \n",
    "- If we **sum over dimension 0**, we get a **3x4 matrix of 2s**. \n",
    "- If we **sum over 1**, we get a **2x4 matrix of 3s**. \n",
    "- And if we **sum over 2**, we get a **2x3 matrix of 4s**. \n",
    "- In each case, we reduce the size of the tensor by summing over one of its dimensions."
   ]
  },
  {
   "cell_type": "code",
   "execution_count": 5,
   "id": "7543ab9b-e495-4285-a507-7e943a9abaa3",
   "metadata": {},
   "outputs": [
    {
     "name": "stdout",
     "output_type": "stream",
     "text": [
      "tf.Tensor(\n",
      "[[2. 2. 2. 2.]\n",
      " [2. 2. 2. 2.]\n",
      " [2. 2. 2. 2.]], shape=(3, 4), dtype=float32)\n",
      "tf.Tensor(\n",
      "[[3. 3. 3. 3.]\n",
      " [3. 3. 3. 3.]], shape=(2, 4), dtype=float32)\n",
      "tf.Tensor(\n",
      "[[4. 4. 4.]\n",
      " [4. 4. 4.]], shape=(2, 3), dtype=float32)\n"
     ]
    }
   ],
   "source": [
    "# sum over all dimensions\n",
    "B = reduce_sum(A)\n",
    "\n",
    "# sum over dimensions 0, 1, 2\n",
    "B0 = reduce_sum(A,0)\n",
    "B1 = reduce_sum(A,1)\n",
    "B2 = reduce_sum(A,2)\n",
    "\n",
    "# printing\n",
    "print(B0)\n",
    "print(B1)\n",
    "print(B2)"
   ]
  },
  {
   "cell_type": "code",
   "execution_count": null,
   "id": "2c10b3a1-149a-4322-8a5a-2454869875bf",
   "metadata": {},
   "outputs": [],
   "source": []
  }
 ],
 "metadata": {
  "kernelspec": {
   "display_name": "Python 3 (ipykernel)",
   "language": "python",
   "name": "python3"
  },
  "language_info": {
   "codemirror_mode": {
    "name": "ipython",
    "version": 3
   },
   "file_extension": ".py",
   "mimetype": "text/x-python",
   "name": "python",
   "nbconvert_exporter": "python",
   "pygments_lexer": "ipython3",
   "version": "3.7.13"
  }
 },
 "nbformat": 4,
 "nbformat_minor": 5
}
