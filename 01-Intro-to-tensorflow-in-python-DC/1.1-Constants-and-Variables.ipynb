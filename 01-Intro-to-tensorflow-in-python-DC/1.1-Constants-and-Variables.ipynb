{
 "cells": [
  {
   "cell_type": "markdown",
   "id": "83c068ab",
   "metadata": {
    "tags": []
   },
   "source": [
    "# Tensorflow Developer Certificate Preparation\n",
    "___\n",
    "## Introduction to Tensorflow in Python - DataCamp - ML-Scientist-Career-Track - by Isaiah Hull\n",
    "___\n",
    "## Chapter 1.1- Constants and Variables\n",
    "\n",
    "### 1. Constants and variables\n",
    "This is a course on the fundamentals of the TensorFlow API in Python. Here, we will briefly introduce TensorFlow and then discuss its two basic objects of computation: **constants** and **variables**.\n",
    "\n",
    "### 2. What is TensorFlow?\n",
    "TensorFlow is an open-source library for graph-based numerical computation. It was developed by the Google Brain Team. It has both low and high level APIs. You can use TensorFlow to perform addition, multiplication, and differentiation. You can also use it to design and train machine learning models. TensorFlow two point zero brought with it substantial changes. Eager execution is now enabled by default, which allows users to write simpler and more intuitive code. Additionally, model building is now centered around the Keras and Estimators high-level APIs.\n",
    "\n",
    "### 3. What is a tensor?\n",
    "The TensorFlow documentation describes a tensor as \"a generalization of vectors and matrices to potentially higher dimensions.\" Now, if you are not familiar with linear algebra, you can simply think of a tensor as a collection of numbers, which is arranged into a particular shape.\n",
    "\n",
    "### 4. What is a tensor?\n",
    "As an example, let's say you have a slice of bread and you cut it into 9 pieces. One of those 9 pieces is a 0-dimensional tensor. This corresponds to a single number. A collection of 3 pieces that form a row or column is a 1-dimensional tensor. All 9 pieces together are a 2-dimensional tensor. And the whole loaf, which contains many slices, is a 3-dimensional tensor.\n",
    "\n",
    "### 5. Defining tensors in TensorFlow\n",
    "Now that you know what a tensor is, let's define a few. We will start by importing tensorflow as tf. We will then define 0-, 1-, 2-, and 3-dimensional tensors. Note that each object will be a tf dot Tensor object."
   ]
  },
  {
   "cell_type": "code",
   "execution_count": 2,
   "id": "6ac20bfd",
   "metadata": {},
   "outputs": [],
   "source": [
    "import tensorflow as tf\n",
    "\n",
    "# 0-dimension tensor\n",
    "d0 = tf.ones((1,))\n",
    "\n",
    "# 1D tensor\n",
    "d1 = tf.ones((2,))\n",
    "\n",
    "# 2D tensor\n",
    "d2 = tf.ones((2,2))\n",
    "\n",
    "# 3d tensor\n",
    "d3 = tf.ones((2,2,2))"
   ]
  },
  {
   "cell_type": "markdown",
   "id": "64943e5e-dfc4-41d4-8e4a-0750e7ee5f62",
   "metadata": {
    "tags": []
   },
   "source": [
    "## 6. Printing tensors in TensorFlow\n",
    "If we want to print the array contained in that object, we can apply the dot numpy method and pass the resulting object to the print function."
   ]
  },
  {
   "cell_type": "code",
   "execution_count": 3,
   "id": "1f3a7136-de8e-4328-9ea8-3eb726977057",
   "metadata": {},
   "outputs": [
    {
     "name": "stdout",
     "output_type": "stream",
     "text": [
      "<bound method _EagerTensorBase.numpy of <tf.Tensor: shape=(2, 2, 2), dtype=float32, numpy=\n",
      "array([[[1., 1.],\n",
      "        [1., 1.]],\n",
      "\n",
      "       [[1., 1.],\n",
      "        [1., 1.]]], dtype=float32)>>\n"
     ]
    }
   ],
   "source": [
    "# print 3d tensor\n",
    "print(d3.numpy)"
   ]
  },
  {
   "cell_type": "markdown",
   "id": "7f03e19a-faed-4e60-a330-05e85ebc1f80",
   "metadata": {},
   "source": [
    "### 7. Defining constants in TensorFlow\n",
    "- constants are the simplest category of tensor in TensorFlow. \n",
    "    - A constant does not change and cannot be trained. \n",
    "    - It can, however, have any dimension. \n",
    "**In the code block, we've defined two constants.** \n",
    "- The constant a is a 2x3 tensor of 3s. \n",
    "- The constant b is a 2x2 tensor, which is constructed from the 1-dimensional tensor: 1, 2, 3, 4."
   ]
  },
  {
   "cell_type": "code",
   "execution_count": 4,
   "id": "a0cb1f23-850a-4939-873a-61fa35c5b822",
   "metadata": {},
   "outputs": [],
   "source": [
    "from tensorflow import constant\n",
    "\n",
    "# Define a 2x3 constant\n",
    "a = constant(3, shape = [2,3])\n",
    "\n",
    "# Define a 2x2 constant\n",
    "b = constant([1,2,3,4], shape = [2,2])"
   ]
  },
  {
   "cell_type": "markdown",
   "id": "b6a5e6a8-c205-4f14-beb4-146fc97a4c4c",
   "metadata": {
    "tags": []
   },
   "source": [
    "### 8. Using convenience functions to define constants\n",
    "- there are more convenient options for defining certain types of special tensors. \n",
    "- You can use the **zeros** or **ones** operations to generate a tensor of arbitrary dimension that is populated entirely with zeros or ones."
   ]
  },
  {
   "cell_type": "code",
   "execution_count": 5,
   "id": "4a104c63-95a7-4de4-b4a1-7acba9007401",
   "metadata": {},
   "outputs": [],
   "source": [
    "# zeros tensors\n",
    "c = tf.zeros([2,2])\n",
    "\n",
    "# ones tensors\n",
    "d = tf.ones([2,2])"
   ]
  },
  {
   "cell_type": "markdown",
   "id": "341350a5-1930-4fe1-a156-a681a2b3286b",
   "metadata": {},
   "source": [
    "- You can use the zeros_like or ones_like operations to **populate tensors with zeros and ones**, ``copying the dimension of some input tensor``. "
   ]
  },
  {
   "cell_type": "code",
   "execution_count": 6,
   "id": "a30801e2-2c0a-4f05-bbe0-8a49e481dde6",
   "metadata": {},
   "outputs": [],
   "source": [
    "# zeros_like tensors\n",
    "e = tf.zeros_like(b)\n",
    "\n",
    "# ones_like tensors\n",
    "f = tf.ones_like(b)"
   ]
  },
  {
   "cell_type": "markdown",
   "id": "c4ca2a6d-4297-40a4-8aed-8a593976936e",
   "metadata": {},
   "source": [
    "- Finally, you can use the **fill operation** to populate a tensor of arbitrary dimension with the same scalar value in each element."
   ]
  },
  {
   "cell_type": "code",
   "execution_count": 7,
   "id": "4308a479-ed8e-473f-9759-96a29a6ac638",
   "metadata": {},
   "outputs": [],
   "source": [
    "# fill 7 in a 3x3 tensor\n",
    "g = tf.fill([3,3], 7)"
   ]
  },
  {
   "cell_type": "markdown",
   "id": "20bca959-1dca-47af-a90c-ac6be39d8f1b",
   "metadata": {},
   "source": [
    "___\n",
    "### 9. Defining and initializing variables\n",
    "- Unlike a constant, a variable's value can **change** during computation. \n",
    "- The value of a variable is **shared**, **persistent**, and **modifiable**. \n",
    "- However, its ``data type`` and ``shape`` are **fixed**.\n",
    "\n",
    "**Let's take a look at how variables are constructed and used in TensorFlow.**\n",
    "- In the code, we first define a variable, ``a0``, which is a ``1-dimensional tensor with 6 elements``. \n",
    "- We can set its ``datatype`` to a ``32-bit float or something else``, such as a ``16-bit int``, as we have for ``a1``. \n",
    "- We then define a constant, ``b``. And define ``c0`` as the ``product of a0 and b``. \n",
    "- Note that certain TensorFlow operations, such as ``tf.multiply`` are overloaded, which allows us to use the simpler a0*b expression instead."
   ]
  },
  {
   "cell_type": "code",
   "execution_count": 8,
   "id": "8a4c1841-5cd5-4d98-b253-a0ae90d3a61a",
   "metadata": {},
   "outputs": [],
   "source": [
    "# Define a variable\n",
    "a0 = tf.Variable([1,2,3,4,5,6], dtype=tf.float32)\n",
    "a1 = tf.Variable([1,2,3,4,5,6], dtype=tf.int16)\n",
    "\n",
    "# define a constant\n",
    "b = tf.constant(2, tf.float32)\n",
    "\n",
    "# Compute their product\n",
    "c0 = tf.multiply(a0, b)\n",
    "c1 = a0*b"
   ]
  },
  {
   "cell_type": "markdown",
   "id": "695d2506-b9e2-462c-b8d7-6da30599d7f2",
   "metadata": {},
   "source": [
    "![Test](./figures/Test.PNG)"
   ]
  },
  {
   "cell_type": "code",
   "execution_count": null,
   "id": "f8d7bfb5-4521-4e2c-8411-db58df8fead8",
   "metadata": {},
   "outputs": [],
   "source": []
  }
 ],
 "metadata": {
  "kernelspec": {
   "display_name": "Python 3 (ipykernel)",
   "language": "python",
   "name": "python3"
  },
  "language_info": {
   "codemirror_mode": {
    "name": "ipython",
    "version": 3
   },
   "file_extension": ".py",
   "mimetype": "text/x-python",
   "name": "python",
   "nbconvert_exporter": "python",
   "pygments_lexer": "ipython3",
   "version": "3.7.13"
  }
 },
 "nbformat": 4,
 "nbformat_minor": 5
}
