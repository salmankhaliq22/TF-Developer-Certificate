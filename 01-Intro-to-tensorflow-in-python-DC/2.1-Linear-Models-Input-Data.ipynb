{
 "cells": [
  {
   "cell_type": "markdown",
   "id": "f702a967-2fc8-4134-9ebb-21072de58e32",
   "metadata": {},
   "source": [
    "# Tensorflow Developer Certificate Preparation\n",
    "___\n",
    "## Introduction to Tensorflow in Python - DataCamp - ML-Scientist-Career-Track - by Isaiah Hull\n",
    "___\n",
    "## Chapter 2.1- Linear Models"
   ]
  },
  {
   "cell_type": "markdown",
   "id": "61b7579b-cdac-4dab-b8ec-dc5e3e4b4e2e",
   "metadata": {},
   "source": [
    "### 1. Input data\n",
    "In the previous chapter, we learned how to perform core TensorFlow operations. In this chapter, we will work towards training a linear model with TensorFlow.\n",
    "\n",
    "### 2. Using data in TensorFlow\n",
    "- So far, we've only generated data using functions like ones and random uniform; however, when we train a machine learning model, we will want to import data from an external source. \n",
    "- This may include numeric, image, or text data. Beyond simply importing the data, numeric data will need to be assigned a type, and text and image data will need to be converted to a usable format.\n",
    "![Figure](./figures/2.1.1.PNG)\n",
    "\n",
    "### 3. Importing data for use in TensorFlow\n",
    "- External datasets can be imported using TensorFlow. \n",
    "- While this is useful for complex data pipelines, it will be unnecessarily complicated for what we do in this chapter.\n",
    "- **For that reason, we will use simpler options to import data**. \n",
    "    - We will import data using ``pandas``\n",
    "    - We will then convert the data into an ``numPy`` array, \n",
    "    - which we can use without further modification in ``tensorflow``.\n",
    "\n",
    "### 4. How to import and convert data\n",
    "- Let's start by importing numpy under the alias np and pandas under the alias pd. \n",
    "- We will then read housing transaction data from ``kc_housing.csv`` using the ``pandas`` method ``read_csv()`` and assign it to a dataframe called ``housing``. \n",
    "- When you are ready to train a model, you will want to convert the data into a ``numpy`` array by passing the pandas dataframe, housing, to ``np.array()``. \n",
    "- We will focus on loading data from csv files in this chapter, but you can also use pandas to load data from other formats, such as ``read_json``, ``read_html``, and ``read_excel``."
   ]
  },
  {
   "cell_type": "code",
   "execution_count": 7,
   "id": "d13e7882-28a2-4659-8e4e-85d957ff7a9f",
   "metadata": {},
   "outputs": [
    {
     "data": {
      "text/html": [
       "<div>\n",
       "<style scoped>\n",
       "    .dataframe tbody tr th:only-of-type {\n",
       "        vertical-align: middle;\n",
       "    }\n",
       "\n",
       "    .dataframe tbody tr th {\n",
       "        vertical-align: top;\n",
       "    }\n",
       "\n",
       "    .dataframe thead th {\n",
       "        text-align: right;\n",
       "    }\n",
       "</style>\n",
       "<table border=\"1\" class=\"dataframe\">\n",
       "  <thead>\n",
       "    <tr style=\"text-align: right;\">\n",
       "      <th></th>\n",
       "      <th>id</th>\n",
       "      <th>date</th>\n",
       "      <th>price</th>\n",
       "      <th>bedrooms</th>\n",
       "      <th>bathrooms</th>\n",
       "      <th>sqft_living</th>\n",
       "      <th>sqft_lot</th>\n",
       "      <th>floors</th>\n",
       "      <th>waterfront</th>\n",
       "      <th>view</th>\n",
       "      <th>...</th>\n",
       "      <th>grade</th>\n",
       "      <th>sqft_above</th>\n",
       "      <th>sqft_basement</th>\n",
       "      <th>yr_built</th>\n",
       "      <th>yr_renovated</th>\n",
       "      <th>zipcode</th>\n",
       "      <th>lat</th>\n",
       "      <th>long</th>\n",
       "      <th>sqft_living15</th>\n",
       "      <th>sqft_lot15</th>\n",
       "    </tr>\n",
       "  </thead>\n",
       "  <tbody>\n",
       "    <tr>\n",
       "      <th>0</th>\n",
       "      <td>7129300520</td>\n",
       "      <td>20141013T000000</td>\n",
       "      <td>221900.0</td>\n",
       "      <td>3</td>\n",
       "      <td>1.00</td>\n",
       "      <td>1180</td>\n",
       "      <td>5650</td>\n",
       "      <td>1.0</td>\n",
       "      <td>0</td>\n",
       "      <td>0</td>\n",
       "      <td>...</td>\n",
       "      <td>7</td>\n",
       "      <td>1180</td>\n",
       "      <td>0</td>\n",
       "      <td>1955</td>\n",
       "      <td>0</td>\n",
       "      <td>98178</td>\n",
       "      <td>47.5112</td>\n",
       "      <td>-122.257</td>\n",
       "      <td>1340</td>\n",
       "      <td>5650</td>\n",
       "    </tr>\n",
       "    <tr>\n",
       "      <th>1</th>\n",
       "      <td>6414100192</td>\n",
       "      <td>20141209T000000</td>\n",
       "      <td>538000.0</td>\n",
       "      <td>3</td>\n",
       "      <td>2.25</td>\n",
       "      <td>2570</td>\n",
       "      <td>7242</td>\n",
       "      <td>2.0</td>\n",
       "      <td>0</td>\n",
       "      <td>0</td>\n",
       "      <td>...</td>\n",
       "      <td>7</td>\n",
       "      <td>2170</td>\n",
       "      <td>400</td>\n",
       "      <td>1951</td>\n",
       "      <td>1991</td>\n",
       "      <td>98125</td>\n",
       "      <td>47.7210</td>\n",
       "      <td>-122.319</td>\n",
       "      <td>1690</td>\n",
       "      <td>7639</td>\n",
       "    </tr>\n",
       "    <tr>\n",
       "      <th>2</th>\n",
       "      <td>5631500400</td>\n",
       "      <td>20150225T000000</td>\n",
       "      <td>180000.0</td>\n",
       "      <td>2</td>\n",
       "      <td>1.00</td>\n",
       "      <td>770</td>\n",
       "      <td>10000</td>\n",
       "      <td>1.0</td>\n",
       "      <td>0</td>\n",
       "      <td>0</td>\n",
       "      <td>...</td>\n",
       "      <td>6</td>\n",
       "      <td>770</td>\n",
       "      <td>0</td>\n",
       "      <td>1933</td>\n",
       "      <td>0</td>\n",
       "      <td>98028</td>\n",
       "      <td>47.7379</td>\n",
       "      <td>-122.233</td>\n",
       "      <td>2720</td>\n",
       "      <td>8062</td>\n",
       "    </tr>\n",
       "    <tr>\n",
       "      <th>3</th>\n",
       "      <td>2487200875</td>\n",
       "      <td>20141209T000000</td>\n",
       "      <td>604000.0</td>\n",
       "      <td>4</td>\n",
       "      <td>3.00</td>\n",
       "      <td>1960</td>\n",
       "      <td>5000</td>\n",
       "      <td>1.0</td>\n",
       "      <td>0</td>\n",
       "      <td>0</td>\n",
       "      <td>...</td>\n",
       "      <td>7</td>\n",
       "      <td>1050</td>\n",
       "      <td>910</td>\n",
       "      <td>1965</td>\n",
       "      <td>0</td>\n",
       "      <td>98136</td>\n",
       "      <td>47.5208</td>\n",
       "      <td>-122.393</td>\n",
       "      <td>1360</td>\n",
       "      <td>5000</td>\n",
       "    </tr>\n",
       "    <tr>\n",
       "      <th>4</th>\n",
       "      <td>1954400510</td>\n",
       "      <td>20150218T000000</td>\n",
       "      <td>510000.0</td>\n",
       "      <td>3</td>\n",
       "      <td>2.00</td>\n",
       "      <td>1680</td>\n",
       "      <td>8080</td>\n",
       "      <td>1.0</td>\n",
       "      <td>0</td>\n",
       "      <td>0</td>\n",
       "      <td>...</td>\n",
       "      <td>8</td>\n",
       "      <td>1680</td>\n",
       "      <td>0</td>\n",
       "      <td>1987</td>\n",
       "      <td>0</td>\n",
       "      <td>98074</td>\n",
       "      <td>47.6168</td>\n",
       "      <td>-122.045</td>\n",
       "      <td>1800</td>\n",
       "      <td>7503</td>\n",
       "    </tr>\n",
       "  </tbody>\n",
       "</table>\n",
       "<p>5 rows × 21 columns</p>\n",
       "</div>"
      ],
      "text/plain": [
       "           id             date     price  bedrooms  bathrooms  sqft_living  \\\n",
       "0  7129300520  20141013T000000  221900.0         3       1.00         1180   \n",
       "1  6414100192  20141209T000000  538000.0         3       2.25         2570   \n",
       "2  5631500400  20150225T000000  180000.0         2       1.00          770   \n",
       "3  2487200875  20141209T000000  604000.0         4       3.00         1960   \n",
       "4  1954400510  20150218T000000  510000.0         3       2.00         1680   \n",
       "\n",
       "   sqft_lot  floors  waterfront  view  ...  grade  sqft_above  sqft_basement  \\\n",
       "0      5650     1.0           0     0  ...      7        1180              0   \n",
       "1      7242     2.0           0     0  ...      7        2170            400   \n",
       "2     10000     1.0           0     0  ...      6         770              0   \n",
       "3      5000     1.0           0     0  ...      7        1050            910   \n",
       "4      8080     1.0           0     0  ...      8        1680              0   \n",
       "\n",
       "   yr_built  yr_renovated  zipcode      lat     long  sqft_living15  \\\n",
       "0      1955             0    98178  47.5112 -122.257           1340   \n",
       "1      1951          1991    98125  47.7210 -122.319           1690   \n",
       "2      1933             0    98028  47.7379 -122.233           2720   \n",
       "3      1965             0    98136  47.5208 -122.393           1360   \n",
       "4      1987             0    98074  47.6168 -122.045           1800   \n",
       "\n",
       "   sqft_lot15  \n",
       "0        5650  \n",
       "1        7639  \n",
       "2        8062  \n",
       "3        5000  \n",
       "4        7503  \n",
       "\n",
       "[5 rows x 21 columns]"
      ]
     },
     "execution_count": 7,
     "metadata": {},
     "output_type": "execute_result"
    }
   ],
   "source": [
    "# import numpy and pandas\n",
    "import numpy as np\n",
    "import pandas as pd\n",
    "\n",
    "# Load data from csv\n",
    "housing = pd.read_csv('./datasets/kc_house_data.csv')\n",
    "housing.head()"
   ]
  },
  {
   "cell_type": "code",
   "execution_count": 9,
   "id": "6ceded62-6183-4603-b7b1-f1c1f164cc2d",
   "metadata": {},
   "outputs": [
    {
     "data": {
      "text/plain": [
       "array([[7129300520, '20141013T000000', 221900.0, ..., -122.257, 1340,\n",
       "        5650],\n",
       "       [6414100192, '20141209T000000', 538000.0, ..., -122.319, 1690,\n",
       "        7639],\n",
       "       [5631500400, '20150225T000000', 180000.0, ..., -122.233, 2720,\n",
       "        8062],\n",
       "       ...,\n",
       "       [1523300141, '20140623T000000', 402101.0, ..., -122.299, 1020,\n",
       "        2007],\n",
       "       [291310100, '20150116T000000', 400000.0, ..., -122.069, 1410,\n",
       "        1287],\n",
       "       [1523300157, '20141015T000000', 325000.0, ..., -122.299, 1020,\n",
       "        1357]], dtype=object)"
      ]
     },
     "execution_count": 9,
     "metadata": {},
     "output_type": "execute_result"
    }
   ],
   "source": [
    "# Convert to numpy array\n",
    "housing = np.array(housing)\n",
    "housing"
   ]
  },
  {
   "cell_type": "code",
   "execution_count": 10,
   "id": "9e4a73ef-aa6b-4d0d-bbb8-48179914b463",
   "metadata": {},
   "outputs": [
    {
     "data": {
      "text/plain": [
       "2"
      ]
     },
     "execution_count": 10,
     "metadata": {},
     "output_type": "execute_result"
    }
   ],
   "source": [
    "# Checking number of axis of the array aka rank\n",
    "housing.ndim"
   ]
  },
  {
   "cell_type": "code",
   "execution_count": 11,
   "id": "2540f187-0277-4eba-a7df-7481b0122109",
   "metadata": {},
   "outputs": [
    {
     "data": {
      "text/plain": [
       "(21613, 21)"
      ]
     },
     "execution_count": 11,
     "metadata": {},
     "output_type": "execute_result"
    }
   ],
   "source": [
    "# Checking shape of the tensor\n",
    "housing.shape"
   ]
  },
  {
   "cell_type": "code",
   "execution_count": 12,
   "id": "976ee5eb-d1de-4ef6-8857-6983821efda5",
   "metadata": {},
   "outputs": [
    {
     "data": {
      "text/plain": [
       "dtype('O')"
      ]
     },
     "execution_count": 12,
     "metadata": {},
     "output_type": "execute_result"
    }
   ],
   "source": [
    "# Checking data type of the tensor\n",
    "housing.dtype"
   ]
  },
  {
   "cell_type": "markdown",
   "id": "ce342ec2-781c-440a-be33-dce91725842f",
   "metadata": {},
   "source": [
    "### 5. Parameters of read_csv()\n",
    "| Parameter| Description | Default |\n",
    "|-|-|-|\n",
    "|``filepath_or_buffer``|  accepts a file path or url  |  ``None``  | \n",
    "|sep|  Delimiter between columns  |  ``,``  |\n",
    "|``delim_whitespace``|  Boolean for whether to  delimit whitespace  |  ``False``  |\n",
    "|``encoding``|  specifies encoding to be used if any  |  ``None``  |\n",
    "\n",
    "\n",
    "### 6. Using mixed type datasets\n",
    "Finally, we will end this lesson by talking about how to transform imported data for use in TensorFlow. We will use housing data from King County, Washington as an example. Notice how the dataset contains columns with different types. One column contains data on house prices in a floating point format. Another column is a boolean variable, which can either be true, 1, or false, 0. In this case, a 1 indicates that a property is located on the waterfront.\n",
    "\n",
    "### 7. Setting the data type\n",
    "- Let's say we want to perform TensorFlow operations that require ``price`` to be a ``32-bit floating point number`` and ``waterfront`` to be a ``boolean``. \n",
    "- We can do this in two ways:\n",
    "    - The **first approach** uses the array method from numpy. \n",
    "        - We select the relevant column in the DataFrame, \n",
    "        - provide it as the first argument to array, \n",
    "        - and then provide the datatype as the second argument."
   ]
  },
  {
   "cell_type": "code",
   "execution_count": 13,
   "id": "d5be4b03-69fa-4806-8b22-a70a6559a567",
   "metadata": {},
   "outputs": [
    {
     "name": "stdout",
     "output_type": "stream",
     "text": [
      "float32\n",
      "bool\n"
     ]
    }
   ],
   "source": [
    "# Load data from csv\n",
    "housing = pd.read_csv('./datasets/kc_house_data.csv')\n",
    "\n",
    "# Convert price column to float32\n",
    "price = np.array(housing['price'], np.float32)\n",
    "print(price.dtype)\n",
    "\n",
    "# Convert waterfront column to Boolean\n",
    "waterfront = np.array(housing['waterfront'], np.bool)\n",
    "print(waterfront.dtype)"
   ]
  },
  {
   "cell_type": "markdown",
   "id": "be1776da-ae13-434f-99e9-1a73b960f23d",
   "metadata": {},
   "source": [
    "   - The **second approach** uses the cast operation from TensorFlow.\n",
    "        - Again, we supply the data first and the data type second. \n",
    "        - While either tf cast or np array will work, waterfront will be a tf dot Tensor type under the former option and a numpy array under the latter."
   ]
  },
  {
   "cell_type": "code",
   "execution_count": 15,
   "id": "69b6ec19-7286-4a11-a341-aa15e488b843",
   "metadata": {},
   "outputs": [
    {
     "name": "stdout",
     "output_type": "stream",
     "text": [
      "<dtype: 'float32'>\n",
      "<dtype: 'bool'>\n"
     ]
    }
   ],
   "source": [
    "# import tensorflow as tf\n",
    "import tensorflow as tf\n",
    "\n",
    "# Load data from csv\n",
    "housing = pd.read_csv('./datasets/kc_house_data.csv')\n",
    "\n",
    "# Convert price column to float32\n",
    "price = tf.cast(housing['price'], tf.float32)\n",
    "print(price.dtype)\n",
    "\n",
    "# Convert waterfron column to Boolean\n",
    "waterfront = tf.cast(housing['waterfront'], tf.bool)\n",
    "print(waterfront.dtype)"
   ]
  },
  {
   "cell_type": "code",
   "execution_count": null,
   "id": "2ad79b34-232f-4dd8-b861-0aea05fedd95",
   "metadata": {},
   "outputs": [],
   "source": []
  }
 ],
 "metadata": {
  "kernelspec": {
   "display_name": "Python 3 (ipykernel)",
   "language": "python",
   "name": "python3"
  },
  "language_info": {
   "codemirror_mode": {
    "name": "ipython",
    "version": 3
   },
   "file_extension": ".py",
   "mimetype": "text/x-python",
   "name": "python",
   "nbconvert_exporter": "python",
   "pygments_lexer": "ipython3",
   "version": "3.7.13"
  }
 },
 "nbformat": 4,
 "nbformat_minor": 5
}
