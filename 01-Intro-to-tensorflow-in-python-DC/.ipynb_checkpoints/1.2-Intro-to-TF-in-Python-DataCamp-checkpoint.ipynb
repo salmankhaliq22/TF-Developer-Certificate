{
 "cells": [
  {
   "cell_type": "markdown",
   "id": "f5494d2b-a851-42e5-b161-82676a6ea19b",
   "metadata": {},
   "source": [
    "# Tensorflow Developer Certificate Preparation\n",
    "___\n",
    "## Introduction to Tensorflow in Python - DataCamp - ML-Scientist-Career-Track\n",
    "___\n",
    "## Chapter 1.2- Basic Operations"
   ]
  },
  {
   "cell_type": "markdown",
   "id": "6457e847-9b3e-41fd-836c-e7a95bdb3b83",
   "metadata": {},
   "source": [
    "### 1. Basic operations\n",
    "In this notebook, we'll talk about basic operations in TensorFlow.\n",
    "\n",
    "### 2. What is a TensorFlow operation?\n",
    "- TensorFlow has a model of computation that revolves around the use of graphs. \n",
    "- A TensorFlow graph contains edges and nodes, where the edges are tensors and the nodes are operations.\n",
    "\n",
    "### 3. What is a TensorFlow operation?\n",
    "In the graph shown, which was drawn using TensorFlow, the const operations define 2 by 2 constant tensors. Two tensors are summed using the add operation.\n",
    "\n",
    "4. What is a TensorFlow operation?\n",
    "Another two tensors are then summed using the add operation.\n",
    "\n",
    "5. What is a TensorFlow operation?\n",
    "Finally, the resulting matrices are multiplied together with the matmul operation.\n",
    "\n",
    "6. Applying the addition operator\n",
    "Let's start with the addition operator. We will first import the constant and add operations. We may now use constant to define 0-dimensional, 1-dimensional, and 2-dimensional tensors.\n",
    "\n",
    "7. Applying the addition operator\n",
    "Finally, let's add them together using the operation for tensor addition. Note that we can perform scalar addition with A0 and B0, vector addition with A1 and B1, and matrix addition with A2 and B2.\n",
    "\n",
    "8. Performing tensor addition\n",
    "The add operation performs element-wise addition with two tensors. Each pair of tensors added must have the same shape. Element-wise addition of the scalars 1 and 2 yields the scalar 3. Element-wise addition of the vectors 1,2 and 3,4 yields the vector 4,6. Element-wise addition of the matrices 1,2,3,4 and 5,6,7,8 yields the matrix 6,8,10,12. Furthermore, the add operator is overloaded, which means that we can also perform addition using the plus symbol.\n",
    "\n",
    "9. How to perform multiplication in TensorFlow\n",
    "We will consider both element-wise and matrix multiplication. For element-wise multiplication, which is performed with the multiply operation, the tensors involved must have the same shape. For instance, you may want to multiply the vector 1,2,3 by 3,4,5 or 1,2 by 3,4. For matrix multiplication, you use the matmul operator. Note that performing matmul(A,B) requires that the number of columns of A equal the number of rows of B.\n",
    "\n",
    "10. Applying the multiplication operators\n",
    "Let's look at some examples of multiplication in TensorFlow. We'll import the ones operator, along with the two types of multiplication we will use. We will also define a scalar, A0, a 3 by 1 vector of ones, a 3 by 4 vector of ones, and a 4 by 3 vector of ones. What operations can be performed using these tensors of ones? We can perform element-wise multiplication of any element by itself, such as A0 by A0, A31 by A31, or A34 by A34. We can also perform matrix multiplication of A43 by A34, but not A43 by A43.\n",
    "\n",
    "11. Summing over tensor dimensions\n",
    "Finally, we end this lesson by discussing summation over tensors, which is performed using the reduce sum operator. This can be used to sum over all dimensions of a tensor or just one. Let's see how this works in practice. We will import ones and reduce sum from tensorflow. We will then define a 2 by 3 by 4 tensor that consists of ones.\n",
    "\n",
    "12. Summing over tensor dimensions\n",
    "If we sum over all elements of A, we get 24, since the tensor contains 24 elements, all of which are 1. If we sum over dimension 0, we get a 3 by 4 matrix of 2s. If we sum over 1, we get a 2 by 4 matrix of 3s. And if we sum over 2, we get a 2 by 3 matrix of 4s. In each case, we reduce the size of the tensor by summing over one of its dimensions.\n",
    "\n",
    "13. Let's practice!\n",
    "Now that you understand how to perform basic operations in TensorFlow, let's put this to work with some exercises."
   ]
  },
  {
   "cell_type": "code",
   "execution_count": null,
   "id": "2c10b3a1-149a-4322-8a5a-2454869875bf",
   "metadata": {},
   "outputs": [],
   "source": []
  }
 ],
 "metadata": {
  "kernelspec": {
   "display_name": "Python 3 (ipykernel)",
   "language": "python",
   "name": "python3"
  },
  "language_info": {
   "codemirror_mode": {
    "name": "ipython",
    "version": 3
   },
   "file_extension": ".py",
   "mimetype": "text/x-python",
   "name": "python",
   "nbconvert_exporter": "python",
   "pygments_lexer": "ipython3",
   "version": "3.7.13"
  }
 },
 "nbformat": 4,
 "nbformat_minor": 5
}
