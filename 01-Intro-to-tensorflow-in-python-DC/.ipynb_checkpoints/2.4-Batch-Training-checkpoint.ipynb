{
 "cells": [
  {
   "cell_type": "markdown",
   "id": "29f983ff-5b6b-4f6f-afc1-19179baac71c",
   "metadata": {},
   "source": [
    "# Tensorflow Developer Certificate Preparation\n",
    "___\n",
    "## Introduction to Tensorflow in Python - DataCamp - ML-Scientist-Career-Track - by Isaiah Hull\n",
    "___\n",
    "## Chapter 2.4 - Batch Training"
   ]
  },
  {
   "cell_type": "code",
   "execution_count": null,
   "id": "4e2e1a34-bc93-48a8-aa6e-a305c3c32e40",
   "metadata": {},
   "outputs": [],
   "source": []
  }
 ],
 "metadata": {
  "kernelspec": {
   "display_name": "Python 3 (ipykernel)",
   "language": "python",
   "name": "python3"
  },
  "language_info": {
   "codemirror_mode": {
    "name": "ipython",
    "version": 3
   },
   "file_extension": ".py",
   "mimetype": "text/x-python",
   "name": "python",
   "nbconvert_exporter": "python",
   "pygments_lexer": "ipython3",
   "version": "3.7.13"
  }
 },
 "nbformat": 4,
 "nbformat_minor": 5
}
